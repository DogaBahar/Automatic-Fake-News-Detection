{
  "cells": [
    {
      "cell_type": "code",
      "execution_count": null,
      "metadata": {
        "id": "1D7l_YIqx89e",
        "outputId": "9138d0a3-fdd9-4ccd-8317-6ca7f1522bf5",
        "colab": {
          "base_uri": "https://localhost:8080/"
        }
      },
      "outputs": [
        {
          "output_type": "stream",
          "name": "stdout",
          "text": [
            "Mounted at /gdrive\n",
            "/gdrive\n"
          ]
        }
      ],
      "source": [
        "from google.colab import drive\n",
        "drive.mount('/gdrive',force_remount=True)\n",
        "%cd /gdrive"
      ]
    },
    {
      "cell_type": "code",
      "source": [
        "from google.colab import drive\n",
        "drive.mount('/content/drive')"
      ],
      "metadata": {
        "colab": {
          "base_uri": "https://localhost:8080/"
        },
        "id": "-IOeWiBH1mdc",
        "outputId": "543ac429-ca7c-4f98-f88b-23263a9380bb"
      },
      "execution_count": null,
      "outputs": [
        {
          "output_type": "stream",
          "name": "stdout",
          "text": [
            "Mounted at /content/drive\n"
          ]
        }
      ]
    },
    {
      "cell_type": "code",
      "source": [
        "import gensim.models.keyedvectors as word2vec\n",
        "from sklearn import preprocessing\n",
        "import pandas as pd\n",
        "import numpy as np\n",
        "from sklearn.model_selection import train_test_split\n",
        "import re\n",
        "from gensim.models import KeyedVectors, Word2Vec\n",
        "from nltk.corpus import stopwords\n",
        "import nltk\n",
        "from sklearn.svm import LinearSVC\n",
        "from sklearn.metrics import accuracy_score\n",
        "from sklearn.metrics import confusion_matrix\n",
        "import seaborn as sns\n",
        "from sklearn.metrics import classification_report\n",
        "\n",
        "\n",
        "\n",
        "\n",
        "\n",
        "nltk.download(\"stopwords\")"
      ],
      "metadata": {
        "colab": {
          "base_uri": "https://localhost:8080/"
        },
        "id": "f6rAUdptC6wT",
        "outputId": "61bfaa47-7f18-4556-be9b-d61c3da817fe"
      },
      "execution_count": null,
      "outputs": [
        {
          "output_type": "stream",
          "name": "stderr",
          "text": [
            "[nltk_data] Downloading package stopwords to /root/nltk_data...\n",
            "[nltk_data]   Package stopwords is already up-to-date!\n"
          ]
        },
        {
          "output_type": "execute_result",
          "data": {
            "text/plain": [
              "True"
            ]
          },
          "metadata": {},
          "execution_count": 3
        }
      ]
    },
    {
      "cell_type": "code",
      "execution_count": null,
      "metadata": {
        "id": "dftCGoXh9IAK"
      },
      "outputs": [],
      "source": [
        "root = \"/content/drive/My Drive/Ara Dönem Proje Fake News Detection/Verisetleri\"\n",
        "#dataset name\n",
        "file_name = \"dataset_sum_pre.csv\"\n",
        "df = pd.read_csv(f\"{root}/{file_name}\")\n",
        "df = df.sample(frac=1).reset_index(drop=True)"
      ]
    },
    {
      "cell_type": "code",
      "execution_count": null,
      "metadata": {
        "id": "0zG2mavtJ7vQ"
      },
      "outputs": [],
      "source": [
        "max_review_size = 40"
      ]
    },
    {
      "cell_type": "markdown",
      "metadata": {
        "id": "CFycY4AQLfBq"
      },
      "source": [
        "## **Prepare the Dataset**"
      ]
    },
    {
      "cell_type": "code",
      "source": [
        "df['label'] = df['label'].map({'True': 1, 'FAKE': 0})"
      ],
      "metadata": {
        "id": "HsMJN4ZukECo"
      },
      "execution_count": null,
      "outputs": []
    },
    {
      "cell_type": "code",
      "execution_count": null,
      "metadata": {
        "id": "EoYMVyhhKPjA"
      },
      "outputs": [],
      "source": [
        "le = preprocessing.LabelEncoder()\n",
        "df['label'] = le.fit_transform(df['label'])\n"
      ]
    },
    {
      "cell_type": "code",
      "execution_count": null,
      "metadata": {
        "id": "EQPGGFQaKyBQ",
        "colab": {
          "base_uri": "https://localhost:8080/",
          "height": 206
        },
        "outputId": "8b9e376f-3a6c-47ed-dce3-5827b5144d41"
      },
      "outputs": [
        {
          "output_type": "execute_result",
          "data": {
            "text/plain": [
              "                                                text  label\n",
              "0  kanada 20 kişi yatsı namaz cami yap sıra düzen...      1\n",
              "1  istanbul terör örgüt pkk kck yönelik düzenle o...      1\n",
              "2  kocaeli kağıt topla bir şahıs can beden bulun ...      1\n",
              "3  ses türkiye yılbaş 2018 yılbaşı 2018 program h...      1\n",
              "4  istanbul cumhuriyet başsavcı yap açıkla fetö ü...      1"
            ],
            "text/html": [
              "\n",
              "  <div id=\"df-114269ad-2769-4a24-8922-33bf6e61391f\">\n",
              "    <div class=\"colab-df-container\">\n",
              "      <div>\n",
              "<style scoped>\n",
              "    .dataframe tbody tr th:only-of-type {\n",
              "        vertical-align: middle;\n",
              "    }\n",
              "\n",
              "    .dataframe tbody tr th {\n",
              "        vertical-align: top;\n",
              "    }\n",
              "\n",
              "    .dataframe thead th {\n",
              "        text-align: right;\n",
              "    }\n",
              "</style>\n",
              "<table border=\"1\" class=\"dataframe\">\n",
              "  <thead>\n",
              "    <tr style=\"text-align: right;\">\n",
              "      <th></th>\n",
              "      <th>text</th>\n",
              "      <th>label</th>\n",
              "    </tr>\n",
              "  </thead>\n",
              "  <tbody>\n",
              "    <tr>\n",
              "      <th>0</th>\n",
              "      <td>kanada 20 kişi yatsı namaz cami yap sıra düzen...</td>\n",
              "      <td>1</td>\n",
              "    </tr>\n",
              "    <tr>\n",
              "      <th>1</th>\n",
              "      <td>istanbul terör örgüt pkk kck yönelik düzenle o...</td>\n",
              "      <td>1</td>\n",
              "    </tr>\n",
              "    <tr>\n",
              "      <th>2</th>\n",
              "      <td>kocaeli kağıt topla bir şahıs can beden bulun ...</td>\n",
              "      <td>1</td>\n",
              "    </tr>\n",
              "    <tr>\n",
              "      <th>3</th>\n",
              "      <td>ses türkiye yılbaş 2018 yılbaşı 2018 program h...</td>\n",
              "      <td>1</td>\n",
              "    </tr>\n",
              "    <tr>\n",
              "      <th>4</th>\n",
              "      <td>istanbul cumhuriyet başsavcı yap açıkla fetö ü...</td>\n",
              "      <td>1</td>\n",
              "    </tr>\n",
              "  </tbody>\n",
              "</table>\n",
              "</div>\n",
              "      <button class=\"colab-df-convert\" onclick=\"convertToInteractive('df-114269ad-2769-4a24-8922-33bf6e61391f')\"\n",
              "              title=\"Convert this dataframe to an interactive table.\"\n",
              "              style=\"display:none;\">\n",
              "        \n",
              "  <svg xmlns=\"http://www.w3.org/2000/svg\" height=\"24px\"viewBox=\"0 0 24 24\"\n",
              "       width=\"24px\">\n",
              "    <path d=\"M0 0h24v24H0V0z\" fill=\"none\"/>\n",
              "    <path d=\"M18.56 5.44l.94 2.06.94-2.06 2.06-.94-2.06-.94-.94-2.06-.94 2.06-2.06.94zm-11 1L8.5 8.5l.94-2.06 2.06-.94-2.06-.94L8.5 2.5l-.94 2.06-2.06.94zm10 10l.94 2.06.94-2.06 2.06-.94-2.06-.94-.94-2.06-.94 2.06-2.06.94z\"/><path d=\"M17.41 7.96l-1.37-1.37c-.4-.4-.92-.59-1.43-.59-.52 0-1.04.2-1.43.59L10.3 9.45l-7.72 7.72c-.78.78-.78 2.05 0 2.83L4 21.41c.39.39.9.59 1.41.59.51 0 1.02-.2 1.41-.59l7.78-7.78 2.81-2.81c.8-.78.8-2.07 0-2.86zM5.41 20L4 18.59l7.72-7.72 1.47 1.35L5.41 20z\"/>\n",
              "  </svg>\n",
              "      </button>\n",
              "      \n",
              "  <style>\n",
              "    .colab-df-container {\n",
              "      display:flex;\n",
              "      flex-wrap:wrap;\n",
              "      gap: 12px;\n",
              "    }\n",
              "\n",
              "    .colab-df-convert {\n",
              "      background-color: #E8F0FE;\n",
              "      border: none;\n",
              "      border-radius: 50%;\n",
              "      cursor: pointer;\n",
              "      display: none;\n",
              "      fill: #1967D2;\n",
              "      height: 32px;\n",
              "      padding: 0 0 0 0;\n",
              "      width: 32px;\n",
              "    }\n",
              "\n",
              "    .colab-df-convert:hover {\n",
              "      background-color: #E2EBFA;\n",
              "      box-shadow: 0px 1px 2px rgba(60, 64, 67, 0.3), 0px 1px 3px 1px rgba(60, 64, 67, 0.15);\n",
              "      fill: #174EA6;\n",
              "    }\n",
              "\n",
              "    [theme=dark] .colab-df-convert {\n",
              "      background-color: #3B4455;\n",
              "      fill: #D2E3FC;\n",
              "    }\n",
              "\n",
              "    [theme=dark] .colab-df-convert:hover {\n",
              "      background-color: #434B5C;\n",
              "      box-shadow: 0px 1px 3px 1px rgba(0, 0, 0, 0.15);\n",
              "      filter: drop-shadow(0px 1px 2px rgba(0, 0, 0, 0.3));\n",
              "      fill: #FFFFFF;\n",
              "    }\n",
              "  </style>\n",
              "\n",
              "      <script>\n",
              "        const buttonEl =\n",
              "          document.querySelector('#df-114269ad-2769-4a24-8922-33bf6e61391f button.colab-df-convert');\n",
              "        buttonEl.style.display =\n",
              "          google.colab.kernel.accessAllowed ? 'block' : 'none';\n",
              "\n",
              "        async function convertToInteractive(key) {\n",
              "          const element = document.querySelector('#df-114269ad-2769-4a24-8922-33bf6e61391f');\n",
              "          const dataTable =\n",
              "            await google.colab.kernel.invokeFunction('convertToInteractive',\n",
              "                                                     [key], {});\n",
              "          if (!dataTable) return;\n",
              "\n",
              "          const docLinkHtml = 'Like what you see? Visit the ' +\n",
              "            '<a target=\"_blank\" href=https://colab.research.google.com/notebooks/data_table.ipynb>data table notebook</a>'\n",
              "            + ' to learn more about interactive tables.';\n",
              "          element.innerHTML = '';\n",
              "          dataTable['output_type'] = 'display_data';\n",
              "          await google.colab.output.renderOutput(dataTable, element);\n",
              "          const docLink = document.createElement('div');\n",
              "          docLink.innerHTML = docLinkHtml;\n",
              "          element.appendChild(docLink);\n",
              "        }\n",
              "      </script>\n",
              "    </div>\n",
              "  </div>\n",
              "  "
            ]
          },
          "metadata": {},
          "execution_count": 9
        }
      ],
      "source": [
        "df.head()"
      ]
    },
    {
      "cell_type": "code",
      "source": [
        "# split the data into training and test sets\n",
        "X_train, X_test, y_train, y_test = train_test_split(df['text'], df['label'], test_size=0.2, random_state=42)"
      ],
      "metadata": {
        "id": "lUxQY2cGzFP9"
      },
      "execution_count": null,
      "outputs": []
    },
    {
      "cell_type": "code",
      "source": [
        "y_train"
      ],
      "metadata": {
        "colab": {
          "base_uri": "https://localhost:8080/"
        },
        "id": "mNh7l3okkvlC",
        "outputId": "becaa257-4042-476d-d0bc-4e026f0398ca"
      },
      "execution_count": null,
      "outputs": [
        {
          "output_type": "execute_result",
          "data": {
            "text/plain": [
              "20469    1\n",
              "13571    1\n",
              "9758     1\n",
              "17329    1\n",
              "12490    1\n",
              "        ..\n",
              "21575    1\n",
              "5390     1\n",
              "860      1\n",
              "15795    0\n",
              "23654    1\n",
              "Name: label, Length: 20125, dtype: int64"
            ]
          },
          "metadata": {},
          "execution_count": 10
        }
      ]
    },
    {
      "cell_type": "markdown",
      "source": [
        "## Train"
      ],
      "metadata": {
        "id": "Fy_rngV2tEqN"
      }
    },
    {
      "cell_type": "code",
      "execution_count": null,
      "metadata": {
        "id": "mSv9gGvINfxn"
      },
      "outputs": [],
      "source": [
        "def vectorize_sentence(sentence:str, word_vectors, vector_size=400, stpwrds= stopwords.words('turkish')):\n",
        "    sentence = re.sub(r\"[^\\w\\s]\", \" \", sentence.lower()).split()\n",
        "    words = np.array([word_vectors[word] for word in sentence if word in word_vectors and word not in stpwrds])\n",
        "    if words.size:\n",
        "        return np.mean(words, 0)\n",
        "    else:\n",
        "        return np.zeros(vector_size,)\n",
        "\n",
        "def calc_w2v_representations(texts, keyed_vectors_path: str = None, w2v_size: int = 400, w2v_window: int = 2,\n",
        "                             w2v_min_count: int = 4, w2v_epoch: int = 16):\n",
        "    \n",
        "    \n",
        "    if keyed_vectors_path is not None:\n",
        "        word_vectors = KeyedVectors.load_word2vec_format(keyed_vectors_path, binary=True)\n",
        "    else:\n",
        "        documents = [text.split() for text in texts]\n",
        "        w2v_model = Word2Vec(vector_size=w2v_size,\n",
        "                             window=w2v_window,\n",
        "                             min_count=w2v_min_count,\n",
        "                             workers=8,\n",
        "                             sg=1)\n",
        "        w2v_model.build_vocab(documents)\n",
        "        w2v_model.train(documents, total_examples=len(\n",
        "            documents), epochs=w2v_epoch)\n",
        "\n",
        "        word_vectors = w2v_model.wv\n",
        "\n",
        "    vectorize = lambda t: vectorize_sentence(t, word_vectors, vector_size=w2v_size)\n",
        "\n",
        "    return np.array(list(map(vectorize, texts)))"
      ]
    },
    {
      "cell_type": "code",
      "execution_count": null,
      "metadata": {
        "id": "yUkTHvLOFkje"
      },
      "outputs": [],
      "source": [
        "X_train = calc_w2v_representations(texts = X_train, keyed_vectors_path='/content/drive/My Drive/Ara Dönem Proje Fake News Detection/Verisetleri/Word2Vec/trmodel')\n",
        "X_test = calc_w2v_representations(texts = X_test, keyed_vectors_path='/content/drive/My Drive/Ara Dönem Proje Fake News Detection/Verisetleri/Word2Vec/trmodel')"
      ]
    },
    {
      "cell_type": "code",
      "execution_count": null,
      "metadata": {
        "id": "bRZiMZ6fGvPl",
        "colab": {
          "base_uri": "https://localhost:8080/"
        },
        "outputId": "df264dc9-0d35-43e0-aab3-700ad955ee2d"
      },
      "outputs": [
        {
          "output_type": "execute_result",
          "data": {
            "text/plain": [
              "(20125, 400)"
            ]
          },
          "metadata": {},
          "execution_count": 13
        }
      ],
      "source": [
        "X_train.shape"
      ]
    },
    {
      "cell_type": "code",
      "source": [
        "from imblearn.over_sampling import SMOTE\n",
        "\n",
        "def smote(x, y):\n",
        "    smote = SMOTE(sampling_strategy= 1, random_state=42)\n",
        "    x, y = smote.fit_resample(x, y)\n",
        "    return x, y"
      ],
      "metadata": {
        "id": "wlWfdIirlHDk"
      },
      "execution_count": null,
      "outputs": []
    },
    {
      "cell_type": "code",
      "source": [
        "print(X_train.shape)\n",
        "print(y_train.shape)"
      ],
      "metadata": {
        "colab": {
          "base_uri": "https://localhost:8080/"
        },
        "id": "vth2sa1olUkO",
        "outputId": "8346436d-ff0a-487d-869f-383f2dbf4ff1"
      },
      "execution_count": null,
      "outputs": [
        {
          "output_type": "stream",
          "name": "stdout",
          "text": [
            "(20125, 400)\n",
            "(20125,)\n"
          ]
        }
      ]
    },
    {
      "cell_type": "code",
      "source": [
        "X_train, y_train = smote(X_train, y_train)"
      ],
      "metadata": {
        "id": "4z78LTfileoo"
      },
      "execution_count": null,
      "outputs": []
    },
    {
      "cell_type": "code",
      "source": [
        "print(X_train.shape)\n",
        "print(y_train.shape)"
      ],
      "metadata": {
        "colab": {
          "base_uri": "https://localhost:8080/"
        },
        "id": "Qso2nzCYlhlg",
        "outputId": "bd5d152c-d6f1-4005-88dc-776f45274e13"
      },
      "execution_count": null,
      "outputs": [
        {
          "output_type": "stream",
          "name": "stdout",
          "text": [
            "(32040, 400)\n",
            "(32040,)\n"
          ]
        }
      ]
    },
    {
      "cell_type": "code",
      "source": [
        "from sklearn.linear_model import LogisticRegression\n",
        "from sklearn.svm import SVC\n",
        "from sklearn.neighbors import KNeighborsClassifier\n",
        "from sklearn.naive_bayes import GaussianNB"
      ],
      "metadata": {
        "id": "slKXlwwlnCwp"
      },
      "execution_count": null,
      "outputs": []
    },
    {
      "cell_type": "code",
      "source": [
        "lr = LogisticRegression()\n",
        "lr.fit(X_train, y_train)\n",
        "y_pred = lr.predict(X_test)\n",
        "print(classification_report(y_test, y_pred))"
      ],
      "metadata": {
        "colab": {
          "base_uri": "https://localhost:8080/"
        },
        "id": "FgVV4Jk2nNnR",
        "outputId": "07b69206-d533-4a7a-a8f7-f75c63d32c45"
      },
      "execution_count": null,
      "outputs": [
        {
          "output_type": "stream",
          "name": "stdout",
          "text": [
            "              precision    recall  f1-score   support\n",
            "\n",
            "           0       0.53      0.80      0.64      1018\n",
            "           1       0.94      0.82      0.88      4014\n",
            "\n",
            "    accuracy                           0.82      5032\n",
            "   macro avg       0.74      0.81      0.76      5032\n",
            "weighted avg       0.86      0.82      0.83      5032\n",
            "\n"
          ]
        },
        {
          "output_type": "stream",
          "name": "stderr",
          "text": [
            "/usr/local/lib/python3.8/dist-packages/sklearn/linear_model/_logistic.py:814: ConvergenceWarning: lbfgs failed to converge (status=1):\n",
            "STOP: TOTAL NO. of ITERATIONS REACHED LIMIT.\n",
            "\n",
            "Increase the number of iterations (max_iter) or scale the data as shown in:\n",
            "    https://scikit-learn.org/stable/modules/preprocessing.html\n",
            "Please also refer to the documentation for alternative solver options:\n",
            "    https://scikit-learn.org/stable/modules/linear_model.html#logistic-regression\n",
            "  n_iter_i = _check_optimize_result(\n"
          ]
        }
      ]
    },
    {
      "cell_type": "code",
      "source": [
        "svc = SVC()\n",
        "svc.fit(X_train, y_train)\n",
        "y_pred = svc.predict(X_test)\n",
        "print(classification_report(y_test, y_pred))"
      ],
      "metadata": {
        "colab": {
          "base_uri": "https://localhost:8080/"
        },
        "id": "wVMMX1S4nQ8V",
        "outputId": "32eda648-9fb9-4d21-8d99-9978b5b83b2d"
      },
      "execution_count": null,
      "outputs": [
        {
          "output_type": "stream",
          "name": "stdout",
          "text": [
            "              precision    recall  f1-score   support\n",
            "\n",
            "           0       0.66      0.75      0.70      1018\n",
            "           1       0.93      0.90      0.92      4014\n",
            "\n",
            "    accuracy                           0.87      5032\n",
            "   macro avg       0.80      0.83      0.81      5032\n",
            "weighted avg       0.88      0.87      0.87      5032\n",
            "\n"
          ]
        }
      ]
    },
    {
      "cell_type": "code",
      "source": [
        "knn = KNeighborsClassifier(n_neighbors=5)\n",
        "knn.fit(X_train, y_train)\n",
        "y_pred = knn.predict(X_test)\n",
        "print(classification_report(y_test, y_pred))"
      ],
      "metadata": {
        "colab": {
          "base_uri": "https://localhost:8080/"
        },
        "id": "x8Pkb5zeom3S",
        "outputId": "cc06a040-df60-4efd-b707-bc092d2c0c19"
      },
      "execution_count": null,
      "outputs": [
        {
          "output_type": "stream",
          "name": "stdout",
          "text": [
            "              precision    recall  f1-score   support\n",
            "\n",
            "           0       0.32      0.94      0.48      1018\n",
            "           1       0.97      0.49      0.65      4014\n",
            "\n",
            "    accuracy                           0.58      5032\n",
            "   macro avg       0.64      0.71      0.56      5032\n",
            "weighted avg       0.84      0.58      0.62      5032\n",
            "\n"
          ]
        }
      ]
    },
    {
      "cell_type": "code",
      "source": [
        "nb = GaussianNB()\n",
        "nb.fit(X_train, y_train)\n",
        "y_pred = nb.predict(X_test)\n",
        "print(classification_report(y_test, y_pred))"
      ],
      "metadata": {
        "colab": {
          "base_uri": "https://localhost:8080/"
        },
        "id": "X1CY_3hOoo2s",
        "outputId": "003fdab2-85f8-453c-98c2-8ae0e58625c9"
      },
      "execution_count": null,
      "outputs": [
        {
          "output_type": "stream",
          "name": "stdout",
          "text": [
            "              precision    recall  f1-score   support\n",
            "\n",
            "           0       0.33      0.58      0.42      1018\n",
            "           1       0.87      0.70      0.78      4014\n",
            "\n",
            "    accuracy                           0.68      5032\n",
            "   macro avg       0.60      0.64      0.60      5032\n",
            "weighted avg       0.76      0.68      0.71      5032\n",
            "\n"
          ]
        }
      ]
    }
  ],
  "metadata": {
    "colab": {
      "provenance": []
    },
    "kernelspec": {
      "display_name": "Python 3",
      "name": "python3"
    },
    "language_info": {
      "name": "python"
    }
  },
  "nbformat": 4,
  "nbformat_minor": 0
}